{
 "cells": [
  {
   "cell_type": "code",
   "execution_count": 1,
   "id": "89a20696-8ad0-44a9-bc4a-fe529680c21d",
   "metadata": {},
   "outputs": [
    {
     "name": "stdout",
     "output_type": "stream",
     "text": [
      "Original Array: [5, 2, 9, 1, 5, 6]\n",
      "Sorted Array: [1, 2, 5, 5, 6, 9]\n"
     ]
    }
   ],
   "source": [
    "def bubble_sort(arr):\n",
    "    n = len(arr)\n",
    "    for i in range(n - 1):  \n",
    "        for j in range(n - i - 1): \n",
    "            if arr[j] > arr[j + 1]:\n",
    "                arr[j], arr[j + 1] = arr[j + 1], arr[j]\n",
    "array = [5, 2, 9, 1, 5, 6]\n",
    "print(\"Original Array:\", array)\n",
    "bubble_sort(array)\n",
    "print(\"Sorted Array:\", array)\n"
   ]
  }
 ],
 "metadata": {
  "kernelspec": {
   "display_name": "Python 3 (ipykernel)",
   "language": "python",
   "name": "python3"
  },
  "language_info": {
   "codemirror_mode": {
    "name": "ipython",
    "version": 3
   },
   "file_extension": ".py",
   "mimetype": "text/x-python",
   "name": "python",
   "nbconvert_exporter": "python",
   "pygments_lexer": "ipython3",
   "version": "3.13.0"
  }
 },
 "nbformat": 4,
 "nbformat_minor": 5
}
