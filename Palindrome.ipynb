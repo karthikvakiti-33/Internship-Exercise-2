{
 "cells": [
  {
   "cell_type": "code",
   "execution_count": null,
   "id": "ca99b8af-b480-4378-af8a-b3338d91fa5a",
   "metadata": {},
   "outputs": [],
   "source": [
    "def is_palindrome(number):\n",
    "    original = str(number)\n",
    "    reversed_number = original[::-1]\n",
    "    return original == reversed_number\n",
    "num = input(\"Enter a number:\")\n",
    "if is_palindrome(num):\n",
    "    print(f\"{num} is a palindrome.\")\n",
    "else:\n",
    "    print(f\"{num} is not a palindrome.\")\n"
   ]
  }
 ],
 "metadata": {
  "kernelspec": {
   "display_name": "Python 3 (ipykernel)",
   "language": "python",
   "name": "python3"
  },
  "language_info": {
   "codemirror_mode": {
    "name": "ipython",
    "version": 3
   },
   "file_extension": ".py",
   "mimetype": "text/x-python",
   "name": "python",
   "nbconvert_exporter": "python",
   "pygments_lexer": "ipython3",
   "version": "3.13.0"
  }
 },
 "nbformat": 4,
 "nbformat_minor": 5
}
