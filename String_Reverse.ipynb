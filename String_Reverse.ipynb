{
 "cells": [
  {
   "cell_type": "code",
   "execution_count": 1,
   "id": "5c71c882-6c2d-4f90-8ceb-5d2c839d14b7",
   "metadata": {},
   "outputs": [
    {
     "name": "stdin",
     "output_type": "stream",
     "text": [
      "Enter a string: hello\n"
     ]
    },
    {
     "name": "stdout",
     "output_type": "stream",
     "text": [
      "Reversed_string: olleh\n"
     ]
    }
   ],
   "source": [
    "def string_reverse(s):\n",
    "    reversed_string=\"\"\n",
    "    for char in s:\n",
    "        reversed_string=char+reversed_string\n",
    "    return reversed_string\n",
    "string=input(\"Enter a string:\")\n",
    "print(\"Reversed_string:\",string_reverse(string))\n"
   ]
  }
 ],
 "metadata": {
  "kernelspec": {
   "display_name": "Python 3 (ipykernel)",
   "language": "python",
   "name": "python3"
  },
  "language_info": {
   "codemirror_mode": {
    "name": "ipython",
    "version": 3
   },
   "file_extension": ".py",
   "mimetype": "text/x-python",
   "name": "python",
   "nbconvert_exporter": "python",
   "pygments_lexer": "ipython3",
   "version": "3.13.0"
  }
 },
 "nbformat": 4,
 "nbformat_minor": 5
}
